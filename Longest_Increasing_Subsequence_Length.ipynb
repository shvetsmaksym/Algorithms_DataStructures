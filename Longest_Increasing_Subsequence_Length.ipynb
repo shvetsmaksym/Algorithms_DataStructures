{
 "cells": [
  {
   "cell_type": "markdown",
   "metadata": {},
   "source": [
    "# Problem"
   ]
  },
  {
   "cell_type": "markdown",
   "metadata": {},
   "source": [
    "The task is to write a function that will find the length of the longest increasing subsequence in the list of numbers given as an argument."
   ]
  },
  {
   "cell_type": "markdown",
   "metadata": {},
   "source": [
    "Firstly, we need a function which creates list of randoms."
   ]
  },
  {
   "cell_type": "code",
   "execution_count": 2,
   "metadata": {},
   "outputs": [],
   "source": [
    "import random"
   ]
  },
  {
   "cell_type": "code",
   "execution_count": 3,
   "metadata": {},
   "outputs": [],
   "source": [
    "def FillListWithRandoms(how_much, Range=100):\n",
    "    global table\n",
    "    table = []\n",
    "    for k in range(0, how_much):\n",
    "        table.append(random.randint(1,Range))"
   ]
  },
  {
   "cell_type": "code",
   "execution_count": 4,
   "metadata": {},
   "outputs": [
    {
     "data": {
      "text/plain": [
       "[90, 64, 26, 14, 48, 49, 8, 2, 5, 19]"
      ]
     },
     "execution_count": 4,
     "metadata": {},
     "output_type": "execute_result"
    }
   ],
   "source": [
    "FillListWithRandoms(10)\n",
    "table"
   ]
  },
  {
   "cell_type": "markdown",
   "metadata": {},
   "source": [
    "# Iterative solution"
   ]
  },
  {
   "cell_type": "code",
   "execution_count": 5,
   "metadata": {},
   "outputs": [],
   "source": [
    "def LIS_ITER(tab):\n",
    "    notes = [1] # notes containing lengths of longest subsequences for every element in tab\n",
    "    i = 0\n",
    "    while len(notes) < len(tab):\n",
    "        i += 1\n",
    "    # lt is a list of lengths of tab[:i] subsequences containing numbers which are less than tab[i]\n",
    "        lt = [ notes[x] for x in range(i) if tab[x] < tab[i] ]\n",
    "\n",
    "        if lt == []:\n",
    "            notes.append(1)\n",
    "        else:\n",
    "            notes.append(max(lt) + 1)\n",
    "\n",
    "    return max(notes)"
   ]
  },
  {
   "cell_type": "code",
   "execution_count": 6,
   "metadata": {},
   "outputs": [
    {
     "name": "stdout",
     "output_type": "stream",
     "text": [
      "[90, 64, 26, 14, 48, 49, 8, 2, 5, 19]\n",
      "3\n"
     ]
    }
   ],
   "source": [
    "print(table)\n",
    "print(LIS_ITER(table))"
   ]
  },
  {
   "cell_type": "markdown",
   "metadata": {},
   "source": [
    "    Interestingly, we expect O(n) time complexity, because there are only one while loop.\n",
    "    So let's display results for some different list sizes."
   ]
  },
  {
   "cell_type": "code",
   "execution_count": 11,
   "metadata": {},
   "outputs": [
    {
     "name": "stdout",
     "output_type": "stream",
     "text": [
      "38.7 µs ± 0 ns per loop (mean ± std. dev. of 1 run, 1 loop each)\n",
      "91 µs ± 0 ns per loop (mean ± std. dev. of 1 run, 1 loop each)\n",
      "168 µs ± 0 ns per loop (mean ± std. dev. of 1 run, 1 loop each)\n",
      "273 µs ± 0 ns per loop (mean ± std. dev. of 1 run, 1 loop each)\n",
      "414 µs ± 0 ns per loop (mean ± std. dev. of 1 run, 1 loop each)\n",
      "707 µs ± 0 ns per loop (mean ± std. dev. of 1 run, 1 loop each)\n",
      "721 µs ± 0 ns per loop (mean ± std. dev. of 1 run, 1 loop each)\n",
      "933 µs ± 0 ns per loop (mean ± std. dev. of 1 run, 1 loop each)\n",
      "1.18 ms ± 0 ns per loop (mean ± std. dev. of 1 run, 1 loop each)\n",
      "1.52 ms ± 0 ns per loop (mean ± std. dev. of 1 run, 1 loop each)\n",
      "1.69 ms ± 0 ns per loop (mean ± std. dev. of 1 run, 1 loop each)\n",
      "1.99 ms ± 0 ns per loop (mean ± std. dev. of 1 run, 1 loop each)\n",
      "2.73 ms ± 0 ns per loop (mean ± std. dev. of 1 run, 1 loop each)\n",
      "3.24 ms ± 0 ns per loop (mean ± std. dev. of 1 run, 1 loop each)\n",
      "5.8 ms ± 0 ns per loop (mean ± std. dev. of 1 run, 1 loop each)\n",
      "3.68 ms ± 0 ns per loop (mean ± std. dev. of 1 run, 1 loop each)\n",
      "3.68 ms ± 0 ns per loop (mean ± std. dev. of 1 run, 1 loop each)\n",
      "4.74 ms ± 0 ns per loop (mean ± std. dev. of 1 run, 1 loop each)\n",
      "4.6 ms ± 0 ns per loop (mean ± std. dev. of 1 run, 1 loop each)\n",
      "5.36 ms ± 0 ns per loop (mean ± std. dev. of 1 run, 1 loop each)\n",
      "6.02 ms ± 0 ns per loop (mean ± std. dev. of 1 run, 1 loop each)\n",
      "6.11 ms ± 0 ns per loop (mean ± std. dev. of 1 run, 1 loop each)\n",
      "6.66 ms ± 0 ns per loop (mean ± std. dev. of 1 run, 1 loop each)\n",
      "7.95 ms ± 0 ns per loop (mean ± std. dev. of 1 run, 1 loop each)\n",
      "8.04 ms ± 0 ns per loop (mean ± std. dev. of 1 run, 1 loop each)\n",
      "8.46 ms ± 0 ns per loop (mean ± std. dev. of 1 run, 1 loop each)\n",
      "9.71 ms ± 0 ns per loop (mean ± std. dev. of 1 run, 1 loop each)\n",
      "9.64 ms ± 0 ns per loop (mean ± std. dev. of 1 run, 1 loop each)\n",
      "11.3 ms ± 0 ns per loop (mean ± std. dev. of 1 run, 1 loop each)\n",
      "11.2 ms ± 0 ns per loop (mean ± std. dev. of 1 run, 1 loop each)\n",
      "12.2 ms ± 0 ns per loop (mean ± std. dev. of 1 run, 1 loop each)\n",
      "12.8 ms ± 0 ns per loop (mean ± std. dev. of 1 run, 1 loop each)\n",
      "14.9 ms ± 0 ns per loop (mean ± std. dev. of 1 run, 1 loop each)\n",
      "17.4 ms ± 0 ns per loop (mean ± std. dev. of 1 run, 1 loop each)\n",
      "25.1 ms ± 0 ns per loop (mean ± std. dev. of 1 run, 1 loop each)\n",
      "17.5 ms ± 0 ns per loop (mean ± std. dev. of 1 run, 1 loop each)\n",
      "22.8 ms ± 0 ns per loop (mean ± std. dev. of 1 run, 1 loop each)\n",
      "21.4 ms ± 0 ns per loop (mean ± std. dev. of 1 run, 1 loop each)\n",
      "21 ms ± 0 ns per loop (mean ± std. dev. of 1 run, 1 loop each)\n",
      "20.2 ms ± 0 ns per loop (mean ± std. dev. of 1 run, 1 loop each)\n",
      "21.3 ms ± 0 ns per loop (mean ± std. dev. of 1 run, 1 loop each)\n",
      "22.5 ms ± 0 ns per loop (mean ± std. dev. of 1 run, 1 loop each)\n",
      "23.2 ms ± 0 ns per loop (mean ± std. dev. of 1 run, 1 loop each)\n",
      "23.9 ms ± 0 ns per loop (mean ± std. dev. of 1 run, 1 loop each)\n",
      "42.9 ms ± 0 ns per loop (mean ± std. dev. of 1 run, 1 loop each)\n",
      "59.9 ms ± 0 ns per loop (mean ± std. dev. of 1 run, 1 loop each)\n",
      "35.7 ms ± 0 ns per loop (mean ± std. dev. of 1 run, 1 loop each)\n",
      "33.9 ms ± 0 ns per loop (mean ± std. dev. of 1 run, 1 loop each)\n",
      "34 ms ± 0 ns per loop (mean ± std. dev. of 1 run, 1 loop each)\n",
      "31.4 ms ± 0 ns per loop (mean ± std. dev. of 1 run, 1 loop each)\n",
      "36.4 ms ± 0 ns per loop (mean ± std. dev. of 1 run, 1 loop each)\n",
      "34.4 ms ± 0 ns per loop (mean ± std. dev. of 1 run, 1 loop each)\n",
      "35.7 ms ± 0 ns per loop (mean ± std. dev. of 1 run, 1 loop each)\n",
      "36.9 ms ± 0 ns per loop (mean ± std. dev. of 1 run, 1 loop each)\n",
      "45.7 ms ± 0 ns per loop (mean ± std. dev. of 1 run, 1 loop each)\n",
      "42.1 ms ± 0 ns per loop (mean ± std. dev. of 1 run, 1 loop each)\n",
      "112 ms ± 0 ns per loop (mean ± std. dev. of 1 run, 1 loop each)\n",
      "84.5 ms ± 0 ns per loop (mean ± std. dev. of 1 run, 1 loop each)\n",
      "66.2 ms ± 0 ns per loop (mean ± std. dev. of 1 run, 1 loop each)\n",
      "61 ms ± 0 ns per loop (mean ± std. dev. of 1 run, 1 loop each)\n",
      "75.9 ms ± 0 ns per loop (mean ± std. dev. of 1 run, 1 loop each)\n",
      "51.5 ms ± 0 ns per loop (mean ± std. dev. of 1 run, 1 loop each)\n",
      "49.6 ms ± 0 ns per loop (mean ± std. dev. of 1 run, 1 loop each)\n",
      "51.3 ms ± 0 ns per loop (mean ± std. dev. of 1 run, 1 loop each)\n",
      "57.2 ms ± 0 ns per loop (mean ± std. dev. of 1 run, 1 loop each)\n",
      "56.7 ms ± 0 ns per loop (mean ± std. dev. of 1 run, 1 loop each)\n",
      "55.3 ms ± 0 ns per loop (mean ± std. dev. of 1 run, 1 loop each)\n",
      "67.3 ms ± 0 ns per loop (mean ± std. dev. of 1 run, 1 loop each)\n",
      "64.9 ms ± 0 ns per loop (mean ± std. dev. of 1 run, 1 loop each)\n",
      "69.9 ms ± 0 ns per loop (mean ± std. dev. of 1 run, 1 loop each)\n",
      "72.8 ms ± 0 ns per loop (mean ± std. dev. of 1 run, 1 loop each)\n",
      "86.5 ms ± 0 ns per loop (mean ± std. dev. of 1 run, 1 loop each)\n",
      "66.9 ms ± 0 ns per loop (mean ± std. dev. of 1 run, 1 loop each)\n",
      "68.7 ms ± 0 ns per loop (mean ± std. dev. of 1 run, 1 loop each)\n",
      "79.5 ms ± 0 ns per loop (mean ± std. dev. of 1 run, 1 loop each)\n",
      "72.2 ms ± 0 ns per loop (mean ± std. dev. of 1 run, 1 loop each)\n",
      "78.5 ms ± 0 ns per loop (mean ± std. dev. of 1 run, 1 loop each)\n",
      "85.6 ms ± 0 ns per loop (mean ± std. dev. of 1 run, 1 loop each)\n",
      "81.1 ms ± 0 ns per loop (mean ± std. dev. of 1 run, 1 loop each)\n",
      "80.7 ms ± 0 ns per loop (mean ± std. dev. of 1 run, 1 loop each)\n",
      "94.6 ms ± 0 ns per loop (mean ± std. dev. of 1 run, 1 loop each)\n",
      "84.5 ms ± 0 ns per loop (mean ± std. dev. of 1 run, 1 loop each)\n",
      "113 ms ± 0 ns per loop (mean ± std. dev. of 1 run, 1 loop each)\n",
      "132 ms ± 0 ns per loop (mean ± std. dev. of 1 run, 1 loop each)\n",
      "97.9 ms ± 0 ns per loop (mean ± std. dev. of 1 run, 1 loop each)\n",
      "112 ms ± 0 ns per loop (mean ± std. dev. of 1 run, 1 loop each)\n",
      "99.2 ms ± 0 ns per loop (mean ± std. dev. of 1 run, 1 loop each)\n",
      "122 ms ± 0 ns per loop (mean ± std. dev. of 1 run, 1 loop each)\n",
      "105 ms ± 0 ns per loop (mean ± std. dev. of 1 run, 1 loop each)\n",
      "109 ms ± 0 ns per loop (mean ± std. dev. of 1 run, 1 loop each)\n",
      "105 ms ± 0 ns per loop (mean ± std. dev. of 1 run, 1 loop each)\n",
      "107 ms ± 0 ns per loop (mean ± std. dev. of 1 run, 1 loop each)\n",
      "129 ms ± 0 ns per loop (mean ± std. dev. of 1 run, 1 loop each)\n",
      "113 ms ± 0 ns per loop (mean ± std. dev. of 1 run, 1 loop each)\n",
      "127 ms ± 0 ns per loop (mean ± std. dev. of 1 run, 1 loop each)\n",
      "116 ms ± 0 ns per loop (mean ± std. dev. of 1 run, 1 loop each)\n",
      "131 ms ± 0 ns per loop (mean ± std. dev. of 1 run, 1 loop each)\n",
      "119 ms ± 0 ns per loop (mean ± std. dev. of 1 run, 1 loop each)\n",
      "131 ms ± 0 ns per loop (mean ± std. dev. of 1 run, 1 loop each)\n",
      "128 ms ± 0 ns per loop (mean ± std. dev. of 1 run, 1 loop each)\n"
     ]
    }
   ],
   "source": [
    "times = {}\n",
    "for length in range(10, 1001, 10):\n",
    "    FillListWithRandoms(length)\n",
    "    res = %timeit -r1 -n1 -o LIS_ITER(table)\n",
    "    times[length] = res.best"
   ]
  },
  {
   "cell_type": "code",
   "execution_count": 8,
   "metadata": {},
   "outputs": [],
   "source": [
    "import matplotlib.pyplot as plt"
   ]
  },
  {
   "cell_type": "code",
   "execution_count": 12,
   "metadata": {},
   "outputs": [
    {
     "data": {
      "image/png": "[encoded data removed]",
      "text/plain": [
       "<Figure size 432x288 with 1 Axes>"
      ]
     },
     "metadata": {
      "needs_background": "light"
     },
     "output_type": "display_data"
    }
   ],
   "source": [
    "plt.plot(times.keys(), times.values())\n",
    "plt.xlabel('table length')\n",
    "plt.ylabel('time (seconds)')\n",
    "plt.show()"
   ]
  },
  {
   "cell_type": "markdown",
   "metadata": {},
   "source": [
    "    However, in practice time complexity seems to be a slightly exponential with occasionally spikes.\n",
    "    This is because of the generetor for lt list inside while loop.\n",
    "    Simply put, if there are no values less than tab[i], time complexity is just O(n). But if there are for example five values less than tab[i], time complexity is O(5*n) in this exact while iteration.\n",
    "    The worst scenerio is when the whole sequence is increasing. Then time complexity equals O((n^2)/2)."
   ]
  },
  {
   "cell_type": "code",
   "execution_count": null,
   "metadata": {},
   "outputs": [],
   "source": []
  }
 ],
 "metadata": {
  "kernelspec": {
   "display_name": "Python 3",
   "language": "python",
   "name": "python3"
  },
  "language_info": {
   "codemirror_mode": {
    "name": "ipython",
    "version": 3
   },
   "file_extension": ".py",
   "mimetype": "text/x-python",
   "name": "python",
   "nbconvert_exporter": "python",
   "pygments_lexer": "ipython3",
   "version": "3.8.5"
  }
 },
 "nbformat": 4,
 "nbformat_minor": 4
}
