{
 "cells": [
  {
   "cell_type": "markdown",
   "metadata": {},
   "source": [
    "# Problem"
   ]
  },
  {
   "cell_type": "markdown",
   "metadata": {},
   "source": [
    "The task is to write a function which finds length of the longest increasing subsequence in the list of numbers given as a parameter."
   ]
  },
  {
   "cell_type": "markdown",
   "metadata": {},
   "source": [
    "Firstly, we need a function which creates list of randoms."
   ]
  },
  {
   "cell_type": "code",
   "execution_count": 1,
   "metadata": {},
   "outputs": [],
   "source": [
    "import random"
   ]
  },
  {
   "cell_type": "code",
   "execution_count": 4,
   "metadata": {},
   "outputs": [],
   "source": [
    "def FillListWithRandoms(how_much, Range=100):\n",
    "    global table\n",
    "    table = []\n",
    "    for k in range(0, how_much):\n",
    "        table.append(random.randint(1,Range))"
   ]
  },
  {
   "cell_type": "code",
   "execution_count": 5,
   "metadata": {},
   "outputs": [
    {
     "data": {
      "text/plain": [
       "[68, 46, 33, 4, 26, 84, 43, 40, 70, 17]"
      ]
     },
     "execution_count": 5,
     "metadata": {},
     "output_type": "execute_result"
    }
   ],
   "source": [
    "FillListWithRandoms(10)\n",
    "table"
   ]
  },
  {
   "cell_type": "markdown",
   "metadata": {},
   "source": [
    "# Iterative solution"
   ]
  },
  {
   "cell_type": "code",
   "execution_count": 18,
   "metadata": {},
   "outputs": [],
   "source": [
    "def LIS_ITER(tab):\n",
    "    notes = [1] # notes containing lengths of sequences for every element in tab\n",
    "    i = 0\n",
    "    while len(notes) < len(tab):\n",
    "        i += 1\n",
    "    # lt is a list storing lengths for every number from tab[:i] subsequence which is less than tab[i]\n",
    "        lt = [ notes[x] for x in range(i) if tab[x] < tab[i] ]\n",
    "\n",
    "        if lt == []:\n",
    "            notes.append(1)\n",
    "        else:\n",
    "            notes.append(max(lt) + 1)\n",
    "\n",
    "    return max(notes)"
   ]
  },
  {
   "cell_type": "code",
   "execution_count": 21,
   "metadata": {},
   "outputs": [
    {
     "name": "stdout",
     "output_type": "stream",
     "text": [
      "[68, 46, 33, 4, 26, 84, 43, 40, 70, 17]\n",
      "4\n"
     ]
    }
   ],
   "source": [
    "print(table)\n",
    "print(LIS_ITER(table))"
   ]
  },
  {
   "cell_type": "code",
   "execution_count": 22,
   "metadata": {},
   "outputs": [
    {
     "name": "stdout",
     "output_type": "stream",
     "text": [
      "153 ms ± 0 ns per loop (mean ± std. dev. of 1 run, 1 loop each)\n",
      "522 ms ± 0 ns per loop (mean ± std. dev. of 1 run, 1 loop each)\n",
      "1.21 s ± 0 ns per loop (mean ± std. dev. of 1 run, 1 loop each)\n",
      "2.52 s ± 0 ns per loop (mean ± std. dev. of 1 run, 1 loop each)\n",
      "3.54 s ± 0 ns per loop (mean ± std. dev. of 1 run, 1 loop each)\n",
      "5.38 s ± 0 ns per loop (mean ± std. dev. of 1 run, 1 loop each)\n",
      "7.12 s ± 0 ns per loop (mean ± std. dev. of 1 run, 1 loop each)\n",
      "8.55 s ± 0 ns per loop (mean ± std. dev. of 1 run, 1 loop each)\n",
      "11.3 s ± 0 ns per loop (mean ± std. dev. of 1 run, 1 loop each)\n"
     ]
    }
   ],
   "source": [
    "times = {}\n",
    "for length in range(1000, 10000, 1000):\n",
    "    FillListWithRandoms(length)\n",
    "    res = %timeit -r1 -n1 -o LIS_ITER(table)\n",
    "    times[length] = res.best"
   ]
  },
  {
   "cell_type": "code",
   "execution_count": 23,
   "metadata": {},
   "outputs": [],
   "source": [
    "import matplotlib.pyplot as plt"
   ]
  },
  {
   "cell_type": "code",
   "execution_count": 25,
   "metadata": {},
   "outputs": [
    {
     "data": {
      "image/png": "[encoded data removed]",
      "text/plain": [
       "<Figure size 432x288 with 1 Axes>"
      ]
     },
     "metadata": {
      "needs_background": "light"
     },
     "output_type": "display_data"
    }
   ],
   "source": [
    "plt.plot(times.keys(), times.values())\n",
    "plt.xlabel('table length')\n",
    "plt.ylabel('time (seconds)')\n",
    "plt.show()"
   ]
  },
  {
   "cell_type": "code",
   "execution_count": null,
   "metadata": {},
   "outputs": [],
   "source": []
  }
 ],
 "metadata": {
  "kernelspec": {
   "display_name": "Python 3",
   "language": "python",
   "name": "python3"
  },
  "language_info": {
   "codemirror_mode": {
    "name": "ipython",
    "version": 3
   },
   "file_extension": ".py",
   "mimetype": "text/x-python",
   "name": "python",
   "nbconvert_exporter": "python",
   "pygments_lexer": "ipython3",
   "version": "3.8.5"
  }
 },
 "nbformat": 4,
 "nbformat_minor": 4
}
