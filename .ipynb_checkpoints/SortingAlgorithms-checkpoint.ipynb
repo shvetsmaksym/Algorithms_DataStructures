{
 "cells": [
  {
   "cell_type": "markdown",
   "metadata": {},
   "source": [
    "# Sorting Algorithms"
   ]
  },
  {
   "cell_type": "markdown",
   "metadata": {},
   "source": [
    "First at all, let's define the function which will generate a list of random numbers"
   ]
  },
  {
   "cell_type": "code",
   "execution_count": 68,
   "metadata": {},
   "outputs": [],
   "source": [
    "import random\n",
    "import matplotlib.pyplot as plt"
   ]
  },
  {
   "cell_type": "code",
   "execution_count": 90,
   "metadata": {},
   "outputs": [],
   "source": [
    "def FillListWithRandoms(how_much, Range=100_000):\n",
    "    global tablica\n",
    "    tablica = []\n",
    "    for k in range(0, how_much):\n",
    "        tablica.append(random.randint(1, Range))"
   ]
  },
  {
   "cell_type": "markdown",
   "metadata": {},
   "source": [
    "# Selection Sort"
   ]
  },
  {
   "cell_type": "markdown",
   "metadata": {},
   "source": [
    "We are looking for the lowest value and then put it in the begining of the list.\n",
    "Then do the same starting from the second element, then third, forth etc."
   ]
  },
  {
   "cell_type": "code",
   "execution_count": 32,
   "metadata": {},
   "outputs": [],
   "source": [
    "def SelectionSort(tab):\n",
    "    for i in range(0, len(tab)-1):\n",
    "        minimum = i\n",
    "        \n",
    "        for j in range(i+1, len(tab)):\n",
    "            if tab[minimum] > tab[j]:\n",
    "                minimum = j\n",
    "        \n",
    "        if i != minimum:\n",
    "            tab[i], tab[minimum] = tab[minimum], tab[i]"
   ]
  },
  {
   "cell_type": "markdown",
   "metadata": {},
   "source": [
    "Let's check if this function works."
   ]
  },
  {
   "cell_type": "code",
   "execution_count": 42,
   "metadata": {},
   "outputs": [
    {
     "data": {
      "text/plain": [
       "[7, 15, 19, 21, 30, 33, 36, 37, 45, 50]"
      ]
     },
     "execution_count": 42,
     "metadata": {},
     "output_type": "execute_result"
    }
   ],
   "source": [
    "FillListWithRandoms(10, Range=50)\n",
    "SelectionSort(tablica)\n",
    "tablica"
   ]
  },
  {
   "cell_type": "markdown",
   "metadata": {},
   "source": [
    "Now, let's check experimentally what is the time complexity of this algorithm."
   ]
  },
  {
   "cell_type": "code",
   "execution_count": 116,
   "metadata": {},
   "outputs": [
    {
     "name": "stdout",
     "output_type": "stream",
     "text": [
      "97.8 ms ± 0 ns per loop (mean ± std. dev. of 1 run, 1 loop each)\n",
      "317 ms ± 0 ns per loop (mean ± std. dev. of 1 run, 1 loop each)\n",
      "1.26 s ± 0 ns per loop (mean ± std. dev. of 1 run, 1 loop each)\n",
      "5 s ± 0 ns per loop (mean ± std. dev. of 1 run, 1 loop each)\n",
      "20.9 s ± 0 ns per loop (mean ± std. dev. of 1 run, 1 loop each)\n"
     ]
    }
   ],
   "source": [
    "times = {}\n",
    "x = 1\n",
    "while x <= 2**4:\n",
    "    FillListWithRandoms(1000*x, Range=1_000_000)\n",
    "    res = %timeit -r1 -n1 -o SelectionSort(tablica)\n",
    "    times[1000*x] = res.best\n",
    "    x *= 2"
   ]
  },
  {
   "cell_type": "code",
   "execution_count": 117,
   "metadata": {},
   "outputs": [
    {
     "data": {
      "image/png": "[encoded data removed]",
      "text/plain": [
       "<Figure size 432x288 with 1 Axes>"
      ]
     },
     "metadata": {
      "needs_background": "light"
     },
     "output_type": "display_data"
    }
   ],
   "source": [
    "plt.plot(times.keys(), times.values())\n",
    "plt.xlabel('size of list')\n",
    "plt.ylabel('time')\n",
    "plt.show()"
   ]
  },
  {
   "cell_type": "markdown",
   "metadata": {},
   "source": [
    "It seems, that time needed to algorithm to sort the values rises exponentially to the size of the list. This may be intuitive as we have two loops in our function.\n",
    "\n",
    "Actually, the time complexity of Selection Sort algorithm is O(n^2)"
   ]
  },
  {
   "cell_type": "markdown",
   "metadata": {},
   "source": [
    "# Bubble Sort"
   ]
  },
  {
   "cell_type": "markdown",
   "metadata": {},
   "source": [
    "Bubble Sort can be compared to air bubbles going to the surface of water.\n",
    "\n",
    "The greater the value is (the bigger bubble is) the more quickly it goes to the surface."
   ]
  },
  {
   "cell_type": "code",
   "execution_count": 115,
   "metadata": {},
   "outputs": [],
   "source": [
    "def BubbleSort(tab):\n",
    "    for i in range(len(tab)-1):\n",
    "        swap = False\n",
    "        \n",
    "        # Each inside loop refers to bubble that comes to surface.\n",
    "        for j in range(len(tab)-i-1):\n",
    "            if tab[j] > tab[j+1]:\n",
    "                tab[j], tab[j+1] = tab[j+1], tab[j]\n",
    "                swap = True\n",
    "        \n",
    "        if swap == False:\n",
    "            break"
   ]
  },
  {
   "cell_type": "markdown",
   "metadata": {},
   "source": [
    "Check if it works."
   ]
  },
  {
   "cell_type": "code",
   "execution_count": 110,
   "metadata": {},
   "outputs": [
    {
     "name": "stdout",
     "output_type": "stream",
     "text": [
      "[40, 23, 42, 12, 7, 15, 29, 36, 26, 7, 8, 46, 40, 38, 43, 4, 45, 17, 33, 41]\n"
     ]
    },
    {
     "data": {
      "text/plain": [
       "[4, 7, 7, 8, 12, 15, 17, 23, 26, 29, 33, 36, 38, 40, 40, 41, 42, 43, 45, 46]"
      ]
     },
     "execution_count": 110,
     "metadata": {},
     "output_type": "execute_result"
    }
   ],
   "source": [
    "FillListWithRandoms(20, Range=50)\n",
    "print(tablica)\n",
    "BubbleSort(tablica)\n",
    "tablica"
   ]
  },
  {
   "cell_type": "code",
   "execution_count": 118,
   "metadata": {},
   "outputs": [
    {
     "name": "stdout",
     "output_type": "stream",
     "text": [
      "212 ms ± 0 ns per loop (mean ± std. dev. of 1 run, 1 loop each)\n",
      "832 ms ± 0 ns per loop (mean ± std. dev. of 1 run, 1 loop each)\n",
      "3.43 s ± 0 ns per loop (mean ± std. dev. of 1 run, 1 loop each)\n",
      "13.9 s ± 0 ns per loop (mean ± std. dev. of 1 run, 1 loop each)\n",
      "58.1 s ± 0 ns per loop (mean ± std. dev. of 1 run, 1 loop each)\n"
     ]
    }
   ],
   "source": [
    "times = {}\n",
    "x = 1\n",
    "while x <= 2**4:\n",
    "    FillListWithRandoms(1000*x, Range=1_000_000)\n",
    "    res = %timeit -r1 -n1 -o BubbleSort(tablica)\n",
    "    times[1000*x] = res.best\n",
    "    x *= 2"
   ]
  },
  {
   "cell_type": "code",
   "execution_count": 119,
   "metadata": {},
   "outputs": [
    {
     "data": {
      "image/png": "[encoded data removed]",
      "text/plain": [
       "<Figure size 432x288 with 1 Axes>"
      ]
     },
     "metadata": {
      "needs_background": "light"
     },
     "output_type": "display_data"
    }
   ],
   "source": [
    "plt.plot(times.keys(), times.values())\n",
    "plt.xlabel('size of list')\n",
    "plt.ylabel('time')\n",
    "plt.show()"
   ]
  },
  {
   "cell_type": "markdown",
   "metadata": {},
   "source": [
    "Bubble Sort has also O(n^2) time complexity. It takes slightly more time than to Selection Sort though.\n",
    "\n",
    "This happens beacause in Bubble Sort the lenght of each loop is stable and equals the length of the list.\n",
    "\n",
    "On the other hand, in Selection Sort the length of each next loop decreases by one.\n",
    "\n",
    "However, The main adventage of Bubble Sort appears when we have almost sorted list. Algorithm will stop if there are no swaps in a loop, but Selection Sort will go to the end.\n",
    "\n",
    "Let's define a function which will generate a list of almost sorted values and check how Bubble Sort will manage to do with it."
   ]
  },
  {
   "cell_type": "code",
   "execution_count": 120,
   "metadata": {},
   "outputs": [],
   "source": [
    "def FillListWithRandomsIncrement(how_much, Range=100):\n",
    "    global tablica\n",
    "    tablica = []\n",
    "    for k in range(0, how_much):\n",
    "        tablica.append(k + random.randint(1, Range))"
   ]
  },
  {
   "cell_type": "code",
   "execution_count": 128,
   "metadata": {},
   "outputs": [
    {
     "name": "stdout",
     "output_type": "stream",
     "text": [
      "20 ms ± 0 ns per loop (mean ± std. dev. of 1 run, 1 loop each)\n",
      "46.9 ms ± 0 ns per loop (mean ± std. dev. of 1 run, 1 loop each)\n",
      "74.3 ms ± 0 ns per loop (mean ± std. dev. of 1 run, 1 loop each)\n",
      "166 ms ± 0 ns per loop (mean ± std. dev. of 1 run, 1 loop each)\n",
      "327 ms ± 0 ns per loop (mean ± std. dev. of 1 run, 1 loop each)\n",
      "674 ms ± 0 ns per loop (mean ± std. dev. of 1 run, 1 loop each)\n",
      "1.46 s ± 0 ns per loop (mean ± std. dev. of 1 run, 1 loop each)\n",
      "2.62 s ± 0 ns per loop (mean ± std. dev. of 1 run, 1 loop each)\n",
      "5.04 s ± 0 ns per loop (mean ± std. dev. of 1 run, 1 loop each)\n"
     ]
    }
   ],
   "source": [
    "times = {}\n",
    "x = 1\n",
    "while x <= 2**8:\n",
    "    FillListWithRandomsIncrement(1000*x)\n",
    "    res = %timeit -r1 -n1 -o BubbleSort(tablica)\n",
    "    times[1000*x] = res.best\n",
    "    x *= 2"
   ]
  },
  {
   "cell_type": "code",
   "execution_count": 129,
   "metadata": {},
   "outputs": [
    {
     "data": {
      "image/png": "[encoded data removed]",
      "text/plain": [
       "<Figure size 432x288 with 1 Axes>"
      ]
     },
     "metadata": {
      "needs_background": "light"
     },
     "output_type": "display_data"
    }
   ],
   "source": [
    "plt.plot(times.keys(), times.values())\n",
    "plt.xlabel('size of list')\n",
    "plt.ylabel('time')\n",
    "plt.show()"
   ]
  },
  {
   "cell_type": "markdown",
   "metadata": {},
   "source": [
    "Much better! It is almost 100x faster in sorting  2^10-lenght list than Selection Sort.\n",
    "\n",
    "So, if our list is almost sorted, it pays off using Bubble Sort."
   ]
  },
  {
   "cell_type": "markdown",
   "metadata": {},
   "source": [
    "# Insertion Sort"
   ]
  },
  {
   "cell_type": "markdown",
   "metadata": {},
   "source": [
    "One more algorithm with O(n^2) complexity is Insertion Sort.\n",
    "\n",
    "The idea is quite similiar to Selection Sort, but we need to insert the value in the right position on the left side (which is already sorted) instead of searching the minimum value on the right side and put it to the end of left (sorted from min) side."
   ]
  },
  {
   "cell_type": "code",
   "execution_count": 106,
   "metadata": {},
   "outputs": [],
   "source": [
    "def InsertSort(tab):\n",
    "    for i in range(1, len(tab)):\n",
    "        value = tab[i]\n",
    "        j = i-1\n",
    "        \n",
    "        while j >= 0 and value < tab[j]:\n",
    "            tab[j+1], tab[j] = tab[j], tab[j+1]\n",
    "            j -= 1"
   ]
  },
  {
   "cell_type": "code",
   "execution_count": 112,
   "metadata": {},
   "outputs": [
    {
     "name": "stdout",
     "output_type": "stream",
     "text": [
      "[21, 10, 47, 8, 6, 24, 36, 1, 47, 33, 12, 2, 10, 5, 9, 35, 27, 6, 41, 27]\n"
     ]
    },
    {
     "data": {
      "text/plain": [
       "[1, 2, 5, 6, 6, 8, 9, 10, 10, 12, 21, 24, 27, 27, 33, 35, 36, 41, 47, 47]"
      ]
     },
     "execution_count": 112,
     "metadata": {},
     "output_type": "execute_result"
    }
   ],
   "source": [
    "FillListWithRandoms(20, Range=50)\n",
    "print(tablica)\n",
    "BubbleSort(tablica)\n",
    "tablica"
   ]
  },
  {
   "cell_type": "code",
   "execution_count": 122,
   "metadata": {},
   "outputs": [
    {
     "name": "stdout",
     "output_type": "stream",
     "text": [
      "168 ms ± 0 ns per loop (mean ± std. dev. of 1 run, 1 loop each)\n",
      "688 ms ± 0 ns per loop (mean ± std. dev. of 1 run, 1 loop each)\n",
      "2.79 s ± 0 ns per loop (mean ± std. dev. of 1 run, 1 loop each)\n",
      "10.6 s ± 0 ns per loop (mean ± std. dev. of 1 run, 1 loop each)\n",
      "46.3 s ± 0 ns per loop (mean ± std. dev. of 1 run, 1 loop each)\n"
     ]
    }
   ],
   "source": [
    "times = {}\n",
    "x = 1\n",
    "while x <= 2**4:\n",
    "    FillListWithRandoms(1000*x)\n",
    "    res = %timeit -r1 -n1 -o InsertSort(tablica)\n",
    "    times[1000*x] = res.best\n",
    "    x *= 2"
   ]
  },
  {
   "cell_type": "code",
   "execution_count": 123,
   "metadata": {},
   "outputs": [
    {
     "data": {
      "image/png": "[encoded data removed]",
      "text/plain": [
       "<Figure size 432x288 with 1 Axes>"
      ]
     },
     "metadata": {
      "needs_background": "light"
     },
     "output_type": "display_data"
    }
   ],
   "source": [
    "plt.plot(times.keys(), times.values())\n",
    "plt.xlabel('size of list')\n",
    "plt.ylabel('time')\n",
    "plt.show()"
   ]
  },
  {
   "cell_type": "markdown",
   "metadata": {},
   "source": [
    "Similarly to Bubble Sort it is better to use Insertion Sort if our list is almost sorted. \n",
    "\n",
    "The inner loops will stop earlier because each next value is generally should be inserted in the end of left (sorted) side."
   ]
  },
  {
   "cell_type": "code",
   "execution_count": 130,
   "metadata": {},
   "outputs": [
    {
     "name": "stdout",
     "output_type": "stream",
     "text": [
      "11.9 ms ± 0 ns per loop (mean ± std. dev. of 1 run, 1 loop each)\n",
      "26.8 ms ± 0 ns per loop (mean ± std. dev. of 1 run, 1 loop each)\n",
      "44.2 ms ± 0 ns per loop (mean ± std. dev. of 1 run, 1 loop each)\n",
      "85.7 ms ± 0 ns per loop (mean ± std. dev. of 1 run, 1 loop each)\n",
      "176 ms ± 0 ns per loop (mean ± std. dev. of 1 run, 1 loop each)\n",
      "391 ms ± 0 ns per loop (mean ± std. dev. of 1 run, 1 loop each)\n",
      "762 ms ± 0 ns per loop (mean ± std. dev. of 1 run, 1 loop each)\n",
      "1.51 s ± 0 ns per loop (mean ± std. dev. of 1 run, 1 loop each)\n",
      "2.8 s ± 0 ns per loop (mean ± std. dev. of 1 run, 1 loop each)\n"
     ]
    }
   ],
   "source": [
    "times = {}\n",
    "x = 1\n",
    "while x <= 2**8:\n",
    "    FillListWithRandomsIncrement(1000*x)\n",
    "    res = %timeit -r1 -n1 -o InsertSort(tablica)\n",
    "    times[1000*x] = res.best\n",
    "    x *= 2"
   ]
  },
  {
   "cell_type": "code",
   "execution_count": 131,
   "metadata": {},
   "outputs": [
    {
     "data": {
      "image/png": "[encoded data removed]",
      "text/plain": [
       "<Figure size 432x288 with 1 Axes>"
      ]
     },
     "metadata": {
      "needs_background": "light"
     },
     "output_type": "display_data"
    }
   ],
   "source": [
    "plt.plot(times.keys(), times.values())\n",
    "plt.xlabel('size of list')\n",
    "plt.ylabel('time')\n",
    "plt.show()"
   ]
  },
  {
   "cell_type": "code",
   "execution_count": null,
   "metadata": {},
   "outputs": [],
   "source": []
  }
 ],
 "metadata": {
  "kernelspec": {
   "display_name": "Python 3",
   "language": "python",
   "name": "python3"
  },
  "language_info": {
   "codemirror_mode": {
    "name": "ipython",
    "version": 3
   },
   "file_extension": ".py",
   "mimetype": "text/x-python",
   "name": "python",
   "nbconvert_exporter": "python",
   "pygments_lexer": "ipython3",
   "version": "3.8.5"
  }
 },
 "nbformat": 4,
 "nbformat_minor": 4
}
