{
 "cells": [
  {
   "cell_type": "markdown",
   "metadata": {},
   "source": [
    "# HEAPS"
   ]
  },
  {
   "cell_type": "markdown",
   "metadata": {},
   "source": [
    "* Heap is a data structure based on binary tree data structure. In a heap every element in current floor (child) has lower priority then element in previous floor (parent). Therefore, root of such tree has the highest priotity and the most right leaf has the lowest priority. Yes, we fill heaps with following values from left to right. \n",
    "    \n",
    "* Though, when we add new element to the end of a heap, it won't have the lowest priority evry time. So, we have to find the right place for it, which means the function, that restructures a heap by taking the \"lowest\" elememt and putting it in a right position, is needed.\n",
    "    \n",
    "* Moreover, we should be able to extract an elemet that currently has the highest priority in a heap. In practice, all we need is to swap the first and last element, and then restructure a heap without \"new last\" element. So, we also need a function which finds the right place for the \"highest\" elements that could be potentially in a wrong place.\n",
    "    \n",
    "* There should be also an option to give the whole list as a parameter, and it will be transformed to a heap. This is basically an idea of Heap Sort, because if we will be extracting values from a heap (using a method from previous point) the output will be sorted values.\n",
    "\n",
    "        Considering the above ideas we can define a heap data structure this way:"
   ]
  },
  {
   "cell_type": "code",
   "execution_count": 38,
   "metadata": {},
   "outputs": [],
   "source": [
    "from random import randint"
   ]
  },
  {
   "cell_type": "code",
   "execution_count": 115,
   "metadata": {},
   "outputs": [],
   "source": [
    "class Heap():\n",
    "    def __init__(self):\n",
    "        self.count = 0 # storages the number of elements in a heap\n",
    "        self.tab = []\n",
    "        self.size = 0 # the size of a table (remains the same when some elements have already been removed from a heap)\n",
    "    \n",
    "    def FixFromBelow(self):\n",
    "        \"Takes the element of the lowest priotiy and puts it to the right position in a heap (if it's needed)\"\n",
    "        temp = self.count - 1\n",
    "        \n",
    "        while temp > 0 and self.tab[temp] > self.tab[(temp - 1) // 2]:\n",
    "            self.tab[(temp - 1) // 2], self.tab[temp] = self.tab[temp], self.tab[(temp - 1) // 2]\n",
    "            temp = (temp - 1) // 2  \n",
    "    \n",
    "    def FixFromAbove(self):\n",
    "        \"Takes the element of the highest priotiy and puts it to the right position in a heap (if it's needed)\"\n",
    "        temp = 0\n",
    "        \n",
    "        while True:\n",
    "            \n",
    "            the_greatest = temp\n",
    "            \n",
    "            if 2*temp + 1 <= self.count - 1 and self.tab[2*temp + 1] > self.tab[the_greatest]:\n",
    "                the_greatest = 2*temp + 1 # if left child exists and is greater than his father\n",
    "                \n",
    "            if 2*temp + 2 <= self.count - 1 and self.tab[2*temp + 2] > self.tab[the_greatest]:\n",
    "                the_greatest = 2*temp + 2 # if right child exists and is greater than his father\n",
    "                \n",
    "            if the_greatest == temp:\n",
    "                break\n",
    "                \n",
    "            self.tab[temp], self.tab[the_greatest] = self.tab[the_greatest], self.tab[temp]\n",
    "            temp = the_greatest\n",
    "        \n",
    "    def AddToHeap(self, num):\n",
    "        \"Append new element to the end of a heap, then put it to the right place\"\n",
    "        self.count += 1\n",
    "        self.size += 1\n",
    "        self.tab.append(num)\n",
    "        self.FixFromBelow()\n",
    "        \n",
    "    def RemoveFromHeap(self):\n",
    "        \"\"\"Remove an element of the highest priotity from a heap by swaping it with the element of lower priority\n",
    "        and then putting the \"new highest\" element to the right position \"\"\"\n",
    "        self.tab[0], self.tab[self.count - 1] = self.tab[self.count - 1], self.tab[0]\n",
    "        self.count -= 1\n",
    "        self.FixFromAbove()\n",
    "        return self.tab[self.count]\n",
    "        "
   ]
  },
  {
   "cell_type": "code",
   "execution_count": 116,
   "metadata": {},
   "outputs": [],
   "source": [
    "h = Heap()"
   ]
  },
  {
   "cell_type": "code",
   "execution_count": 117,
   "metadata": {},
   "outputs": [
    {
     "data": {
      "text/plain": [
       "[12, 12, 12, 8, 12, 8, 12, 7, 5, 10, 8, 3, 7, 7, 11, 2, 4, 1, 4, 5]"
      ]
     },
     "execution_count": 117,
     "metadata": {},
     "output_type": "execute_result"
    }
   ],
   "source": [
    "for _ in range(20):\n",
    "    h.AddToHeap(randint(1,15))\n",
    "h.tab"
   ]
  },
  {
   "cell_type": "code",
   "execution_count": 118,
   "metadata": {},
   "outputs": [
    {
     "name": "stdout",
     "output_type": "stream",
     "text": [
      "12 12 12 12 12 11 10 8 8 8 7 7 7 5 5 4 4 3 2 1 "
     ]
    }
   ],
   "source": [
    "while h.count > 0:\n",
    "    print(h.RemoveFromHeap(), end=\" \")"
   ]
  },
  {
   "cell_type": "code",
   "execution_count": 119,
   "metadata": {},
   "outputs": [
    {
     "data": {
      "text/plain": [
       "[1, 2, 3, 4, 4, 5, 5, 7, 7, 7, 8, 8, 8, 10, 11, 12, 12, 12, 12, 12]"
      ]
     },
     "execution_count": 119,
     "metadata": {},
     "output_type": "execute_result"
    }
   ],
   "source": [
    "h.tab"
   ]
  },
  {
   "cell_type": "markdown",
   "metadata": {},
   "source": [
    "    GREAT! We have just given a list of sorted values.\n",
    "\n",
    "    Let's modify a Heap class, so it will have a method sorting a whole list given as parameter. "
   ]
  },
  {
   "cell_type": "markdown",
   "metadata": {},
   "source": [
    "# HEAP SORT"
   ]
  },
  {
   "cell_type": "code",
   "execution_count": 120,
   "metadata": {},
   "outputs": [],
   "source": [
    "class HeapSort(Heap):\n",
    "    \"\"\"Inherits all the features from Heap class, and adds an option to deal with a list given as a parameter\"\"\"\n",
    "    def __init__(self, table=None):\n",
    "        super().__init__()\n",
    "        if table != None:\n",
    "            self.tab = table\n",
    "            self.size = len(self.tab) # remains the same when a table hasn't been restructured to heap yet \n",
    "            \n",
    "    def Sort(self):\n",
    "        \"\"\"Heap Sort function\"\"\"\n",
    "        for _ in range(self.size): # restructure list to a heap\n",
    "            self.count += 1\n",
    "            self.FixFromBelow()\n",
    "            \n",
    "        for _ in range(self.size): # remove elements considering their priorities\n",
    "            self.RemoveFromHeap()"
   ]
  },
  {
   "cell_type": "code",
   "execution_count": 121,
   "metadata": {},
   "outputs": [],
   "source": [
    "table = []\n",
    "for _ in range(20):\n",
    "    table.append(randint(1,15))\n",
    "hs = HeapSort(table)"
   ]
  },
  {
   "cell_type": "code",
   "execution_count": 122,
   "metadata": {},
   "outputs": [
    {
     "data": {
      "text/plain": [
       "[7, 7, 12, 7, 14, 1, 14, 4, 11, 2, 7, 15, 15, 7, 6, 3, 1, 13, 11, 4]"
      ]
     },
     "execution_count": 122,
     "metadata": {},
     "output_type": "execute_result"
    }
   ],
   "source": [
    "hs.tab"
   ]
  },
  {
   "cell_type": "code",
   "execution_count": 123,
   "metadata": {},
   "outputs": [
    {
     "data": {
      "text/plain": [
       "[1, 1, 2, 3, 4, 4, 6, 7, 7, 7, 7, 7, 11, 11, 12, 13, 14, 14, 15, 15]"
      ]
     },
     "execution_count": 123,
     "metadata": {},
     "output_type": "execute_result"
    }
   ],
   "source": [
    "hs.Sort()\n",
    "hs.tab"
   ]
  },
  {
   "cell_type": "markdown",
   "metadata": {},
   "source": [
    "    WORKS FINE!"
   ]
  },
  {
   "cell_type": "code",
   "execution_count": null,
   "metadata": {},
   "outputs": [],
   "source": []
  }
 ],
 "metadata": {
  "kernelspec": {
   "display_name": "Python 3",
   "language": "python",
   "name": "python3"
  },
  "language_info": {
   "codemirror_mode": {
    "name": "ipython",
    "version": 3
   },
   "file_extension": ".py",
   "mimetype": "text/x-python",
   "name": "python",
   "nbconvert_exporter": "python",
   "pygments_lexer": "ipython3",
   "version": "3.8.5"
  }
 },
 "nbformat": 4,
 "nbformat_minor": 4
}
