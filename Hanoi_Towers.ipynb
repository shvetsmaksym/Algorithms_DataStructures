{
 "cells": [
  {
   "cell_type": "markdown",
   "metadata": {},
   "source": [
    "# Recursive function for 3 pegs"
   ]
  },
  {
   "cell_type": "code",
   "execution_count": 16,
   "metadata": {},
   "outputs": [],
   "source": [
    "# Variable count stores number of disks' movements.\n",
    "count = 0"
   ]
  },
  {
   "cell_type": "code",
   "execution_count": 12,
   "metadata": {},
   "outputs": [],
   "source": [
    "def move3(n, start, target, aux):\n",
    "    global count\n",
    "    if n > 0:\n",
    "        # move n-1 disks from start to auxilary tower\n",
    "        move3(n-1, start, aux, target)\n",
    "        \n",
    "        # move n-th disk from start to target tower\n",
    "        print('%s -> %d' % (start[0], target[0]))\n",
    "        count += 1\n",
    "        \n",
    "        # move n-1 disks from auxilary to target\n",
    "        move3(n-1, aux, target, start)"
   ]
  },
  {
   "cell_type": "markdown",
   "metadata": {},
   "source": [
    "In this function parameters start, target, aux are lists. Actualy, when we have 3 pegs, these parameters don't have to be lists. However, this aproach is useful, when we have more than 3 pegs. The number of start pegs remains 1, as well as target pegs, but the number of auxilary pegs starts to increase and should be stored as a list."
   ]
  },
  {
   "cell_type": "markdown",
   "metadata": {},
   "source": [
    "    Print movements for 4 disks."
   ]
  },
  {
   "cell_type": "code",
   "execution_count": 25,
   "metadata": {},
   "outputs": [
    {
     "name": "stdout",
     "output_type": "stream",
     "text": [
      "1 -> 2\n",
      "1 -> 3\n",
      "2 -> 3\n",
      "1 -> 2\n",
      "3 -> 1\n",
      "3 -> 2\n",
      "1 -> 2\n",
      "1 -> 3\n",
      "2 -> 3\n",
      "2 -> 1\n",
      "3 -> 1\n",
      "2 -> 3\n",
      "1 -> 2\n",
      "1 -> 3\n",
      "2 -> 3\n"
     ]
    }
   ],
   "source": [
    "count = 0\n",
    "move3(4, start=[1], target=[3], aux=[2])"
   ]
  },
  {
   "cell_type": "code",
   "execution_count": 26,
   "metadata": {},
   "outputs": [
    {
     "data": {
      "text/plain": [
       "15"
      ]
     },
     "execution_count": 26,
     "metadata": {},
     "output_type": "execute_result"
    }
   ],
   "source": [
    "count"
   ]
  },
  {
   "cell_type": "markdown",
   "metadata": {},
   "source": [
    "# Recursive function for 4 pegs"
   ]
  },
  {
   "cell_type": "code",
   "execution_count": 27,
   "metadata": {},
   "outputs": [],
   "source": [
    "def move4(n, start, target, aux):\n",
    "    global count\n",
    "    if n == 0:\n",
    "        return\n",
    "    if n == 1:\n",
    "        print('%s -> %d' % (start[0], target[0]))\n",
    "        count += 1\n",
    "    else:\n",
    "        # move n-2 disks from start to auxilary tower\n",
    "        move4(n-2, start, aux[:1], aux[1:] + target)\n",
    "        \n",
    "        # move 2 highest disks from start to target tower\n",
    "        print('%s -> %d' % (start[0], aux[1]))\n",
    "        print('%s -> %d' % (start[0], target[0]))\n",
    "        print('%s -> %d' % (aux[1], target[0]))\n",
    "        count += 3\n",
    "        \n",
    "        # move n-2 disks from auxilary to target\n",
    "        move4(n-2, aux[:1], target, start + aux[1:])"
   ]
  },
  {
   "cell_type": "code",
   "execution_count": 28,
   "metadata": {},
   "outputs": [
    {
     "name": "stdout",
     "output_type": "stream",
     "text": [
      "1 -> 4\n",
      "1 -> 2\n",
      "4 -> 2\n",
      "1 -> 3\n",
      "1 -> 4\n",
      "3 -> 4\n",
      "2 -> 3\n",
      "2 -> 4\n",
      "3 -> 4\n"
     ]
    }
   ],
   "source": [
    "count = 0\n",
    "move4(4, start=[1], target=[4], aux=[2,3])"
   ]
  },
  {
   "cell_type": "code",
   "execution_count": 29,
   "metadata": {},
   "outputs": [
    {
     "data": {
      "text/plain": [
       "9"
      ]
     },
     "execution_count": 29,
     "metadata": {},
     "output_type": "execute_result"
    }
   ],
   "source": [
    "count"
   ]
  },
  {
   "cell_type": "markdown",
   "metadata": {},
   "source": [
    "    Looks like one extra peg significantly decreased number of movements..."
   ]
  },
  {
   "cell_type": "code",
   "execution_count": null,
   "metadata": {},
   "outputs": [],
   "source": []
  }
 ],
 "metadata": {
  "kernelspec": {
   "display_name": "Python 3",
   "language": "python",
   "name": "python3"
  },
  "language_info": {
   "codemirror_mode": {
    "name": "ipython",
    "version": 3
   },
   "file_extension": ".py",
   "mimetype": "text/x-python",
   "name": "python",
   "nbconvert_exporter": "python",
   "pygments_lexer": "ipython3",
   "version": "3.8.5"
  }
 },
 "nbformat": 4,
 "nbformat_minor": 4
}
