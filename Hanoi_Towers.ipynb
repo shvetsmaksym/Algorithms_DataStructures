{
 "cells": [
  {
   "cell_type": "markdown",
   "metadata": {},
   "source": [
    "# Recursive function for 3 pegs"
   ]
  },
  {
   "cell_type": "code",
   "execution_count": 35,
   "metadata": {},
   "outputs": [],
   "source": [
    "# Global variable mv stores move of disks.\n",
    "mv = []"
   ]
  },
  {
   "cell_type": "code",
   "execution_count": 21,
   "metadata": {},
   "outputs": [],
   "source": [
    "def threePegs(n, start, target, aux):\n",
    "    global mv\n",
    "    if n == 0:\n",
    "        return\n",
    "    else:\n",
    "        # move n-1 disks from start to auxilary peg\n",
    "        threePegs(n-1, start, aux, target)\n",
    "        \n",
    "        # move n-th disk from start to target peg\n",
    "        mv.append('%s -> %d' % (start[0], target[0]))\n",
    "        \n",
    "        # move n-1 disks from auxilary to target peg\n",
    "        threePegs(n-1, aux, target, start)"
   ]
  },
  {
   "cell_type": "markdown",
   "metadata": {},
   "source": [
    "In this function parameters start, target, aux are lists. Actualy, when we have 3 pegs, these parameters don't have to be lists. However, this aproach is useful, when we have more than 3 pegs. The number of start pegs remains 1, as well as target pegs, but the number of auxilary pegs starts to increase and should be stored as a list."
   ]
  },
  {
   "cell_type": "markdown",
   "metadata": {},
   "source": [
    "    Print movements for 4 disks."
   ]
  },
  {
   "cell_type": "code",
   "execution_count": 24,
   "metadata": {},
   "outputs": [
    {
     "data": {
      "text/plain": [
       "['1 -> 2',\n",
       " '1 -> 3',\n",
       " '2 -> 3',\n",
       " '1 -> 2',\n",
       " '3 -> 1',\n",
       " '3 -> 2',\n",
       " '1 -> 2',\n",
       " '1 -> 3',\n",
       " '2 -> 3',\n",
       " '2 -> 1',\n",
       " '3 -> 1',\n",
       " '2 -> 3',\n",
       " '1 -> 2',\n",
       " '1 -> 3',\n",
       " '2 -> 3']"
      ]
     },
     "execution_count": 24,
     "metadata": {},
     "output_type": "execute_result"
    }
   ],
   "source": [
    "mv = []\n",
    "threePegs(4, start=[1], target=[3], aux=[2])\n",
    "mv"
   ]
  },
  {
   "cell_type": "markdown",
   "metadata": {},
   "source": [
    "# Recursive function for 4 pegs"
   ]
  },
  {
   "cell_type": "markdown",
   "metadata": {},
   "source": [
    "With a slight modification of function for three pegs we are able to define a function for four pegs.\n",
    "\n",
    "One significant difference is that now we have 2 auxilary pegs instead of one. This means that we are able to move up to 2 disks in a base case and put only n-2 disks in following recursion calls. Which also means that we have to define one more base case for n = 2."
   ]
  },
  {
   "cell_type": "code",
   "execution_count": 26,
   "metadata": {},
   "outputs": [],
   "source": [
    "def fourPegs(n, start, target, aux):\n",
    "    global mv\n",
    "    if n == 0:\n",
    "        return\n",
    "    elif n == 1:\n",
    "        mv.append('%s -> %d' % (start[0], target[0]))\n",
    "    else:\n",
    "        # move n-2 disks from start to auxilary peg\n",
    "        fourPegs(n-2, start, aux[:1], aux[1:] + target)\n",
    "        \n",
    "        # move 2 highest disks from start to target peg\n",
    "        mv.append('%s -> %d' % (start[0], aux[1]))\n",
    "        mv.append('%s -> %d' % (start[0], target[0]))\n",
    "        mv.append('%s -> %d' % (aux[1], target[0]))\n",
    "        \n",
    "        # move n-2 disks from auxilary to target peg\n",
    "        fourPegs(n-2, aux[:1], target, start + aux[1:])"
   ]
  },
  {
   "cell_type": "markdown",
   "metadata": {},
   "source": [
    "Importantly, we define base case for n == 2 in else statement, when base case for n == 1 from function for 3 pegs landed above in elif statement."
   ]
  },
  {
   "cell_type": "code",
   "execution_count": 27,
   "metadata": {},
   "outputs": [
    {
     "data": {
      "text/plain": [
       "['1 -> 4',\n",
       " '1 -> 2',\n",
       " '4 -> 2',\n",
       " '1 -> 3',\n",
       " '1 -> 4',\n",
       " '3 -> 4',\n",
       " '2 -> 3',\n",
       " '2 -> 4',\n",
       " '3 -> 4']"
      ]
     },
     "execution_count": 27,
     "metadata": {},
     "output_type": "execute_result"
    }
   ],
   "source": [
    "mv = []\n",
    "fourPegs(4, start=[1], target=[4], aux=[2,3])\n",
    "mv"
   ]
  },
  {
   "cell_type": "markdown",
   "metadata": {},
   "source": [
    "    It is already easy to notice a pattern of defining a function for any number of pegs.\n",
    "\n",
    "    * First, we need to copy base cases from a function for p-1 pegs.\n",
    "    * Then, define additional base case for p-2 disks.\n",
    "    * Finaly, put n - p + 2 in following recursive calls.\n",
    "    \n",
    "    So let's create a function for 5 pegs and check if it works."
   ]
  },
  {
   "cell_type": "markdown",
   "metadata": {},
   "source": [
    "# Recursive function for 5 pegs"
   ]
  },
  {
   "cell_type": "code",
   "execution_count": 28,
   "metadata": {},
   "outputs": [],
   "source": [
    "def fivePegs(n, start, target, aux):\n",
    "    global count\n",
    "    if n == 0:\n",
    "        return\n",
    "    elif n == 1:\n",
    "        mv.append('%s -> %d' % (start[0], target[0]))\n",
    "        count += 1\n",
    "    elif n == 2:\n",
    "        mv.append('%s -> %d' % (start[0], aux[1]))\n",
    "        mv.append('%s -> %d' % (start[0], target[0]))\n",
    "        mv.append('%s -> %d' % (aux[1], target[0]))\n",
    "    else:\n",
    "        # move n-3 disks from start to auxilary peg\n",
    "        fivePegs(n-3, start, aux[:1], aux[1:] + target)\n",
    "        \n",
    "        # move 3 highest disks from start to target peg\n",
    "        mv.append('%s -> %d' % (start[0], aux[2]))\n",
    "        mv.append('%s -> %d' % (start[0], aux[1]))\n",
    "        mv.append('%s -> %d' % (start[0], target[0]))\n",
    "        mv.append('%s -> %d' % (aux[1], target[0]))\n",
    "        mv.append('%s -> %d' % (aux[2], target[0]))\n",
    "        \n",
    "        # move n-3 disks from auxilary to target peg\n",
    "        fivePegs(n-3, aux[:1], target, start + aux[1:])"
   ]
  },
  {
   "cell_type": "code",
   "execution_count": 29,
   "metadata": {},
   "outputs": [
    {
     "data": {
      "text/plain": [
       "['1 -> 5',\n",
       " '1 -> 4',\n",
       " '1 -> 2',\n",
       " '4 -> 2',\n",
       " '5 -> 2',\n",
       " '1 -> 4',\n",
       " '1 -> 3',\n",
       " '1 -> 5',\n",
       " '3 -> 5',\n",
       " '4 -> 5',\n",
       " '2 -> 4',\n",
       " '2 -> 3',\n",
       " '2 -> 5',\n",
       " '3 -> 5',\n",
       " '4 -> 5']"
      ]
     },
     "execution_count": 29,
     "metadata": {},
     "output_type": "execute_result"
    }
   ],
   "source": [
    "mv = []\n",
    "fivePegs(6, start=[1], target=[5], aux=[2,3,4])\n",
    "mv"
   ]
  },
  {
   "cell_type": "markdown",
   "metadata": {},
   "source": [
    "    GREAT!!!"
   ]
  },
  {
   "cell_type": "markdown",
   "metadata": {},
   "source": [
    "# Comparing algorithm complexity for different numbers of pegs"
   ]
  },
  {
   "cell_type": "markdown",
   "metadata": {},
   "source": [
    "Now let's print out the minimal number of movements needed for 1 to 20 disks using 3, 4 or 5 pegs.\n",
    "\n",
    "For this purpose I am going to use pandas and matplotlib"
   ]
  },
  {
   "cell_type": "code",
   "execution_count": 10,
   "metadata": {},
   "outputs": [],
   "source": [
    "import matplotlib.pyplot as plt\n",
    "import pandas as pd"
   ]
  },
  {
   "cell_type": "code",
   "execution_count": 36,
   "metadata": {},
   "outputs": [],
   "source": [
    "movements = {x: [] for x in range(1, 21)}\n",
    "for i in movements.keys():\n",
    "    mv = []\n",
    "    threePegs(i, start=[1], target=[3], aux=[2])\n",
    "    movements[i].append(len(mv))"
   ]
  },
  {
   "cell_type": "code",
   "execution_count": 37,
   "metadata": {},
   "outputs": [],
   "source": [
    "for i in movements.keys():\n",
    "    mv = []\n",
    "    fourPegs(i, start=[1], target=[4], aux=[2,3])\n",
    "    movements[i].append(len(mv))"
   ]
  },
  {
   "cell_type": "code",
   "execution_count": 38,
   "metadata": {},
   "outputs": [],
   "source": [
    "for i in movements.keys():\n",
    "    mv = []\n",
    "    fivePegs(i, start=[1], target=[5], aux=[2,3,4])\n",
    "    movements[i].append(len(mv))"
   ]
  },
  {
   "cell_type": "code",
   "execution_count": 39,
   "metadata": {},
   "outputs": [
    {
     "data": {
      "text/html": [
       "<div>\n",
       "<style scoped>\n",
       "    .dataframe tbody tr th:only-of-type {\n",
       "        vertical-align: middle;\n",
       "    }\n",
       "\n",
       "    .dataframe tbody tr th {\n",
       "        vertical-align: top;\n",
       "    }\n",
       "\n",
       "    .dataframe thead th {\n",
       "        text-align: right;\n",
       "    }\n",
       "</style>\n",
       "<table border=\"1\" class=\"dataframe\">\n",
       "  <thead>\n",
       "    <tr style=\"text-align: right;\">\n",
       "      <th></th>\n",
       "      <th>3 pegs</th>\n",
       "      <th>4 pegs</th>\n",
       "      <th>5 pegs</th>\n",
       "    </tr>\n",
       "  </thead>\n",
       "  <tbody>\n",
       "    <tr>\n",
       "      <th>1</th>\n",
       "      <td>1</td>\n",
       "      <td>1</td>\n",
       "      <td>1</td>\n",
       "    </tr>\n",
       "    <tr>\n",
       "      <th>2</th>\n",
       "      <td>3</td>\n",
       "      <td>3</td>\n",
       "      <td>3</td>\n",
       "    </tr>\n",
       "    <tr>\n",
       "      <th>3</th>\n",
       "      <td>7</td>\n",
       "      <td>5</td>\n",
       "      <td>5</td>\n",
       "    </tr>\n",
       "    <tr>\n",
       "      <th>4</th>\n",
       "      <td>15</td>\n",
       "      <td>9</td>\n",
       "      <td>7</td>\n",
       "    </tr>\n",
       "    <tr>\n",
       "      <th>5</th>\n",
       "      <td>31</td>\n",
       "      <td>13</td>\n",
       "      <td>11</td>\n",
       "    </tr>\n",
       "    <tr>\n",
       "      <th>6</th>\n",
       "      <td>63</td>\n",
       "      <td>21</td>\n",
       "      <td>15</td>\n",
       "    </tr>\n",
       "    <tr>\n",
       "      <th>7</th>\n",
       "      <td>127</td>\n",
       "      <td>29</td>\n",
       "      <td>19</td>\n",
       "    </tr>\n",
       "    <tr>\n",
       "      <th>8</th>\n",
       "      <td>255</td>\n",
       "      <td>45</td>\n",
       "      <td>27</td>\n",
       "    </tr>\n",
       "    <tr>\n",
       "      <th>9</th>\n",
       "      <td>511</td>\n",
       "      <td>61</td>\n",
       "      <td>35</td>\n",
       "    </tr>\n",
       "    <tr>\n",
       "      <th>10</th>\n",
       "      <td>1023</td>\n",
       "      <td>93</td>\n",
       "      <td>43</td>\n",
       "    </tr>\n",
       "    <tr>\n",
       "      <th>11</th>\n",
       "      <td>2047</td>\n",
       "      <td>125</td>\n",
       "      <td>59</td>\n",
       "    </tr>\n",
       "    <tr>\n",
       "      <th>12</th>\n",
       "      <td>4095</td>\n",
       "      <td>189</td>\n",
       "      <td>75</td>\n",
       "    </tr>\n",
       "    <tr>\n",
       "      <th>13</th>\n",
       "      <td>8191</td>\n",
       "      <td>253</td>\n",
       "      <td>91</td>\n",
       "    </tr>\n",
       "    <tr>\n",
       "      <th>14</th>\n",
       "      <td>16383</td>\n",
       "      <td>381</td>\n",
       "      <td>123</td>\n",
       "    </tr>\n",
       "    <tr>\n",
       "      <th>15</th>\n",
       "      <td>32767</td>\n",
       "      <td>509</td>\n",
       "      <td>155</td>\n",
       "    </tr>\n",
       "    <tr>\n",
       "      <th>16</th>\n",
       "      <td>65535</td>\n",
       "      <td>765</td>\n",
       "      <td>187</td>\n",
       "    </tr>\n",
       "    <tr>\n",
       "      <th>17</th>\n",
       "      <td>131071</td>\n",
       "      <td>1021</td>\n",
       "      <td>251</td>\n",
       "    </tr>\n",
       "    <tr>\n",
       "      <th>18</th>\n",
       "      <td>262143</td>\n",
       "      <td>1533</td>\n",
       "      <td>315</td>\n",
       "    </tr>\n",
       "    <tr>\n",
       "      <th>19</th>\n",
       "      <td>524287</td>\n",
       "      <td>2045</td>\n",
       "      <td>379</td>\n",
       "    </tr>\n",
       "    <tr>\n",
       "      <th>20</th>\n",
       "      <td>1048575</td>\n",
       "      <td>3069</td>\n",
       "      <td>507</td>\n",
       "    </tr>\n",
       "  </tbody>\n",
       "</table>\n",
       "</div>"
      ],
      "text/plain": [
       "     3 pegs  4 pegs  5 pegs\n",
       "1         1       1       1\n",
       "2         3       3       3\n",
       "3         7       5       5\n",
       "4        15       9       7\n",
       "5        31      13      11\n",
       "6        63      21      15\n",
       "7       127      29      19\n",
       "8       255      45      27\n",
       "9       511      61      35\n",
       "10     1023      93      43\n",
       "11     2047     125      59\n",
       "12     4095     189      75\n",
       "13     8191     253      91\n",
       "14    16383     381     123\n",
       "15    32767     509     155\n",
       "16    65535     765     187\n",
       "17   131071    1021     251\n",
       "18   262143    1533     315\n",
       "19   524287    2045     379\n",
       "20  1048575    3069     507"
      ]
     },
     "execution_count": 39,
     "metadata": {},
     "output_type": "execute_result"
    }
   ],
   "source": [
    "df = pd.DataFrame.from_dict(movements).set_index([pd.Series(['3 pegs','4 pegs','5 pegs'])]).transpose()\n",
    "df"
   ]
  },
  {
   "cell_type": "code",
   "execution_count": 46,
   "metadata": {},
   "outputs": [
    {
     "data": {
      "image/png": "[encoded data removed]",
      "text/plain": [
       "<Figure size 1152x288 with 3 Axes>"
      ]
     },
     "metadata": {
      "needs_background": "light"
     },
     "output_type": "display_data"
    }
   ],
   "source": [
    "fig, ((ax1, ax2, ax3)) = plt.subplots(1, 3, figsize=(16,4))\n",
    "fig.subplots_adjust(wspace=0.3, hspace=0.3)\n",
    "\n",
    "ax1.plot(df.iloc[:,:1])\n",
    "ax1.set_title('3 pegs')\n",
    "\n",
    "ax2.set_title('4 pegs')\n",
    "ax2.plot(df.iloc[:,1:2])\n",
    "\n",
    "ax3.set_title('5 pegs')\n",
    "ax3.plot(df.iloc[:,2:3])\n",
    "\n",
    "plt.show()"
   ]
  },
  {
   "cell_type": "markdown",
   "metadata": {},
   "source": [
    "As it can be noticed with increasing number of pegs the minimal number of movements significantly decreases. Nevertheless the function of time complexity remains exponential, which means that parameter p (pegs) reduces this exponent keeping it positive. Otherwise we would have decreasing function.\n",
    "\n",
    "The time complexity for 3 pegs is 2^n. Therefore function 2^(n-p) should be eliminated, because for p > n it is falling.\n",
    "In the same way 2^(n/p) should be eliminated as well, because for p -> inf: 2^n -> 1 for any number of disks, which is false.\n",
    "\n",
    "In fact, time complexity of Hanoi  Towers algorithm for p pegs is 2^(n^(1/(p-2))).\n",
    "https://en.wikipedia.org/wiki/Tower_of_Hanoi#Frame%E2%80%93Stewart_algorithm"
   ]
  }
 ],
 "metadata": {
  "kernelspec": {
   "display_name": "Python 3",
   "language": "python",
   "name": "python3"
  },
  "language_info": {
   "codemirror_mode": {
    "name": "ipython",
    "version": 3
   },
   "file_extension": ".py",
   "mimetype": "text/x-python",
   "name": "python",
   "nbconvert_exporter": "python",
   "pygments_lexer": "ipython3",
   "version": "3.8.5"
  }
 },
 "nbformat": 4,
 "nbformat_minor": 4
}
