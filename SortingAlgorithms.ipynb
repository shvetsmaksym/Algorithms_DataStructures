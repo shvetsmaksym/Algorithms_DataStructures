{
 "cells": [
  {
   "cell_type": "markdown",
   "metadata": {},
   "source": [
    "# Sorting Algorithms"
   ]
  },
  {
   "cell_type": "markdown",
   "metadata": {},
   "source": [
    "    First at all, let's define the function, which will generate a list of random numbers."
   ]
  },
  {
   "cell_type": "code",
   "execution_count": 1,
   "metadata": {},
   "outputs": [],
   "source": [
    "import random\n",
    "import matplotlib.pyplot as plt"
   ]
  },
  {
   "cell_type": "code",
   "execution_count": 2,
   "metadata": {},
   "outputs": [],
   "source": [
    "def FillListWithRandoms(how_much, Range=100_000):\n",
    "    global tablica\n",
    "    tablica = []\n",
    "    for k in range(0, how_much):\n",
    "        tablica.append(random.randint(1, Range))"
   ]
  },
  {
   "cell_type": "markdown",
   "metadata": {},
   "source": [
    "# Selection Sort"
   ]
  },
  {
   "cell_type": "markdown",
   "metadata": {},
   "source": [
    "    We are looking for the lowest value and then put it in the begining of the list.\n",
    "    Then do the same starting from the second element, then third, forth etc."
   ]
  },
  {
   "cell_type": "code",
   "execution_count": 3,
   "metadata": {},
   "outputs": [],
   "source": [
    "def SelectionSort(tab):\n",
    "    for i in range(0, len(tab)-1):\n",
    "        minimum = i\n",
    "        \n",
    "        for j in range(i+1, len(tab)):\n",
    "            if tab[minimum] > tab[j]:\n",
    "                minimum = j\n",
    "        \n",
    "        if i != minimum:\n",
    "            tab[i], tab[minimum] = tab[minimum], tab[i]"
   ]
  },
  {
   "cell_type": "markdown",
   "metadata": {},
   "source": [
    "    Let's check if our function works correct."
   ]
  },
  {
   "cell_type": "code",
   "execution_count": 4,
   "metadata": {},
   "outputs": [
    {
     "data": {
      "text/plain": [
       "[2, 4, 7, 11, 15, 27, 28, 30, 49, 49]"
      ]
     },
     "execution_count": 4,
     "metadata": {},
     "output_type": "execute_result"
    }
   ],
   "source": [
    "FillListWithRandoms(10, Range=50)\n",
    "SelectionSort(tablica)\n",
    "tablica"
   ]
  },
  {
   "cell_type": "markdown",
   "metadata": {},
   "source": [
    "    Now, let's check experimentally what is the time complexity of this algorithm."
   ]
  },
  {
   "cell_type": "code",
   "execution_count": 5,
   "metadata": {},
   "outputs": [
    {
     "name": "stdout",
     "output_type": "stream",
     "text": [
      "91.2 ms ± 0 ns per loop (mean ± std. dev. of 1 run, 1 loop each)\n",
      "318 ms ± 0 ns per loop (mean ± std. dev. of 1 run, 1 loop each)\n",
      "1.26 s ± 0 ns per loop (mean ± std. dev. of 1 run, 1 loop each)\n",
      "5 s ± 0 ns per loop (mean ± std. dev. of 1 run, 1 loop each)\n"
     ]
    }
   ],
   "source": [
    "times = {}\n",
    "x = 1\n",
    "while x <= 2**3:\n",
    "    FillListWithRandoms(1000*x, Range=1_000_000)\n",
    "    res = %timeit -r1 -n1 -o SelectionSort(tablica)\n",
    "    times[1000*x] = res.best\n",
    "    x *= 2"
   ]
  },
  {
   "cell_type": "code",
   "execution_count": 6,
   "metadata": {},
   "outputs": [
    {
     "data": {
      "image/png": "[encoded data removed]",
      "text/plain": [
       "<Figure size 432x288 with 1 Axes>"
      ]
     },
     "metadata": {
      "needs_background": "light"
     },
     "output_type": "display_data"
    }
   ],
   "source": [
    "plt.plot(times.keys(), times.values())\n",
    "plt.xlabel('size of list')\n",
    "plt.ylabel('time')\n",
    "plt.show()"
   ]
  },
  {
   "cell_type": "markdown",
   "metadata": {},
   "source": [
    "    It seems, that the time algorithm need to sort the values rises exponentially to the size of the list. This may be intuitive as we have two loops in our function.\n",
    "\n",
    "    Actually, the time complexity of Selection Sort algorithm is O(n^2)"
   ]
  },
  {
   "cell_type": "markdown",
   "metadata": {},
   "source": [
    "# Bubble Sort"
   ]
  },
  {
   "cell_type": "markdown",
   "metadata": {},
   "source": [
    "    Bubble Sort can be compared to air bubbles going to the surface of the water.\n",
    "\n",
    "    The greater the value is (the bigger bubble is) the more quickly it goes to the surface."
   ]
  },
  {
   "cell_type": "code",
   "execution_count": 7,
   "metadata": {},
   "outputs": [],
   "source": [
    "def BubbleSort(tab):\n",
    "    for i in range(len(tab)-1):\n",
    "        swap = False\n",
    "        \n",
    "        # Each inside loop refers to bubble that comes to surface.\n",
    "        for j in range(len(tab)-i-1):\n",
    "            if tab[j] > tab[j+1]:\n",
    "                tab[j], tab[j+1] = tab[j+1], tab[j]\n",
    "                swap = True\n",
    "        \n",
    "        if swap == False:\n",
    "            break"
   ]
  },
  {
   "cell_type": "markdown",
   "metadata": {},
   "source": [
    "    Check if it works correct."
   ]
  },
  {
   "cell_type": "code",
   "execution_count": 8,
   "metadata": {},
   "outputs": [
    {
     "name": "stdout",
     "output_type": "stream",
     "text": [
      "[33, 33, 27, 16, 9, 43, 11, 4, 8, 22, 11, 10, 43, 16, 20, 35, 7, 49, 47, 33]\n"
     ]
    },
    {
     "data": {
      "text/plain": [
       "[4, 7, 8, 9, 10, 11, 11, 16, 16, 20, 22, 27, 33, 33, 33, 35, 43, 43, 47, 49]"
      ]
     },
     "execution_count": 8,
     "metadata": {},
     "output_type": "execute_result"
    }
   ],
   "source": [
    "FillListWithRandoms(20, Range=50)\n",
    "print(tablica)\n",
    "BubbleSort(tablica)\n",
    "tablica"
   ]
  },
  {
   "cell_type": "code",
   "execution_count": 9,
   "metadata": {},
   "outputs": [
    {
     "name": "stdout",
     "output_type": "stream",
     "text": [
      "215 ms ± 0 ns per loop (mean ± std. dev. of 1 run, 1 loop each)\n",
      "850 ms ± 0 ns per loop (mean ± std. dev. of 1 run, 1 loop each)\n",
      "3.56 s ± 0 ns per loop (mean ± std. dev. of 1 run, 1 loop each)\n",
      "13.7 s ± 0 ns per loop (mean ± std. dev. of 1 run, 1 loop each)\n"
     ]
    }
   ],
   "source": [
    "times = {}\n",
    "x = 1\n",
    "while x <= 2**3:\n",
    "    FillListWithRandoms(1000*x, Range=1_000_000)\n",
    "    res = %timeit -r1 -n1 -o BubbleSort(tablica)\n",
    "    times[1000*x] = res.best\n",
    "    x *= 2"
   ]
  },
  {
   "cell_type": "code",
   "execution_count": 10,
   "metadata": {},
   "outputs": [
    {
     "data": {
      "image/png": "[encoded data removed]",
      "text/plain": [
       "<Figure size 432x288 with 1 Axes>"
      ]
     },
     "metadata": {
      "needs_background": "light"
     },
     "output_type": "display_data"
    }
   ],
   "source": [
    "plt.plot(times.keys(), times.values())\n",
    "plt.xlabel('size of list')\n",
    "plt.ylabel('time')\n",
    "plt.show()"
   ]
  },
  {
   "cell_type": "markdown",
   "metadata": {},
   "source": [
    "    Bubble Sort has also O(n^2) time complexity. It takes slightly more time than to Selection Sort though.\n",
    "\n",
    "    This happens beacause in Bubble Sort the lenght of each loop is stable and equals the length of the list.\n",
    "\n",
    "    On the other hand, in Selection Sort the length of each next loop decreases by one, as we put the miniumum value from unsorted list to the sorted one.\n",
    "\n",
    "    However, the main adventage of Bubble Sort appears when we have almost sorted list. Bubble Sort will stop if there are no swaps in a loop, when Selection Sort will go to the end.\n",
    "\n",
    "    Let's define a function which will generate a list of almost sorted values and check how Bubble Sort will manage to sort it."
   ]
  },
  {
   "cell_type": "code",
   "execution_count": 11,
   "metadata": {},
   "outputs": [],
   "source": [
    "def FillListWithRandomsIncrement(how_much, Range=100):\n",
    "    global tablica\n",
    "    tablica = []\n",
    "    for k in range(0, how_much):\n",
    "        tablica.append(k + random.randint(1, Range))"
   ]
  },
  {
   "cell_type": "code",
   "execution_count": 12,
   "metadata": {},
   "outputs": [
    {
     "name": "stdout",
     "output_type": "stream",
     "text": [
      "17.4 ms ± 0 ns per loop (mean ± std. dev. of 1 run, 1 loop each)\n",
      "44.5 ms ± 0 ns per loop (mean ± std. dev. of 1 run, 1 loop each)\n",
      "76.8 ms ± 0 ns per loop (mean ± std. dev. of 1 run, 1 loop each)\n",
      "165 ms ± 0 ns per loop (mean ± std. dev. of 1 run, 1 loop each)\n",
      "309 ms ± 0 ns per loop (mean ± std. dev. of 1 run, 1 loop each)\n",
      "716 ms ± 0 ns per loop (mean ± std. dev. of 1 run, 1 loop each)\n",
      "1.45 s ± 0 ns per loop (mean ± std. dev. of 1 run, 1 loop each)\n",
      "2.56 s ± 0 ns per loop (mean ± std. dev. of 1 run, 1 loop each)\n",
      "5.31 s ± 0 ns per loop (mean ± std. dev. of 1 run, 1 loop each)\n"
     ]
    }
   ],
   "source": [
    "times = {}\n",
    "x = 1\n",
    "while x <= 2**8:\n",
    "    FillListWithRandomsIncrement(1000*x)\n",
    "    res = %timeit -r1 -n1 -o BubbleSort(tablica)\n",
    "    times[1000*x] = res.best\n",
    "    x *= 2"
   ]
  },
  {
   "cell_type": "code",
   "execution_count": 13,
   "metadata": {},
   "outputs": [
    {
     "data": {
      "image/png": "[encoded data removed]",
      "text/plain": [
       "<Figure size 432x288 with 1 Axes>"
      ]
     },
     "metadata": {
      "needs_background": "light"
     },
     "output_type": "display_data"
    }
   ],
   "source": [
    "plt.plot(times.keys(), times.values())\n",
    "plt.xlabel('size of list')\n",
    "plt.ylabel('time')\n",
    "plt.show()"
   ]
  },
  {
   "cell_type": "markdown",
   "metadata": {},
   "source": [
    "    Much better! It is aaround 100x faster in sorting  2^3*1000 -lenght list than Selection Sort.\n",
    "\n",
    "    So, if our list is almost sorted, it pays off using Bubble Sort."
   ]
  },
  {
   "cell_type": "markdown",
   "metadata": {},
   "source": [
    "# Insertion Sort"
   ]
  },
  {
   "cell_type": "markdown",
   "metadata": {},
   "source": [
    "    One more algorithm with O(n^2) complexity is Insertion Sort.\n",
    "\n",
    "    The idea is quite similiar to Selection Sort. We also divide the list of values into two sublists: sorted and unsorted. But we need to insert the value in the right position into the sorted sublist instead of searching the minimum value in the unsorted sublist and put it to the end of the sorted one."
   ]
  },
  {
   "cell_type": "code",
   "execution_count": 13,
   "metadata": {},
   "outputs": [],
   "source": [
    "def InsertSort(tab):\n",
    "    for i in range(1, len(tab)):\n",
    "        value = tab[i]\n",
    "        j = i-1\n",
    "        \n",
    "        while j >= 0 and value < tab[j]:\n",
    "            tab[j+1], tab[j] = tab[j], tab[j+1]\n",
    "            j -= 1"
   ]
  },
  {
   "cell_type": "code",
   "execution_count": 14,
   "metadata": {},
   "outputs": [
    {
     "name": "stdout",
     "output_type": "stream",
     "text": [
      "[41, 44, 17, 8, 2, 2, 30, 28, 18, 6, 45, 40, 39, 35, 35, 50, 6, 12, 37, 26]\n"
     ]
    },
    {
     "data": {
      "text/plain": [
       "[2, 2, 6, 6, 8, 12, 17, 18, 26, 28, 30, 35, 35, 37, 39, 40, 41, 44, 45, 50]"
      ]
     },
     "execution_count": 14,
     "metadata": {},
     "output_type": "execute_result"
    }
   ],
   "source": [
    "FillListWithRandoms(20, Range=50)\n",
    "print(tablica)\n",
    "InsertSort(tablica)\n",
    "tablica"
   ]
  },
  {
   "cell_type": "code",
   "execution_count": 15,
   "metadata": {},
   "outputs": [
    {
     "name": "stdout",
     "output_type": "stream",
     "text": [
      "173 ms ± 0 ns per loop (mean ± std. dev. of 1 run, 1 loop each)\n",
      "650 ms ± 0 ns per loop (mean ± std. dev. of 1 run, 1 loop each)\n",
      "2.63 s ± 0 ns per loop (mean ± std. dev. of 1 run, 1 loop each)\n",
      "10.6 s ± 0 ns per loop (mean ± std. dev. of 1 run, 1 loop each)\n"
     ]
    }
   ],
   "source": [
    "times = {}\n",
    "x = 1\n",
    "while x <= 2**3:\n",
    "    FillListWithRandoms(1000*x)\n",
    "    res = %timeit -r1 -n1 -o InsertSort(tablica)\n",
    "    times[1000*x] = res.best\n",
    "    x *= 2"
   ]
  },
  {
   "cell_type": "code",
   "execution_count": 16,
   "metadata": {},
   "outputs": [
    {
     "data": {
      "image/png": "[encoded data removed]",
      "text/plain": [
       "<Figure size 432x288 with 1 Axes>"
      ]
     },
     "metadata": {
      "needs_background": "light"
     },
     "output_type": "display_data"
    }
   ],
   "source": [
    "plt.plot(times.keys(), times.values())\n",
    "plt.xlabel('size of list')\n",
    "plt.ylabel('time')\n",
    "plt.show()"
   ]
  },
  {
   "cell_type": "markdown",
   "metadata": {},
   "source": [
    "    Similarly to Bubble Sort it is better to use Insertion Sort if our list is almost sorted. \n",
    "\n",
    "    The inner loops will be much more short because each next value is generally should be inserted in the end of sorted sublist."
   ]
  },
  {
   "cell_type": "code",
   "execution_count": 17,
   "metadata": {},
   "outputs": [
    {
     "name": "stdout",
     "output_type": "stream",
     "text": [
      "10.6 ms ± 0 ns per loop (mean ± std. dev. of 1 run, 1 loop each)\n",
      "23 ms ± 0 ns per loop (mean ± std. dev. of 1 run, 1 loop each)\n",
      "47.7 ms ± 0 ns per loop (mean ± std. dev. of 1 run, 1 loop each)\n",
      "86.2 ms ± 0 ns per loop (mean ± std. dev. of 1 run, 1 loop each)\n",
      "176 ms ± 0 ns per loop (mean ± std. dev. of 1 run, 1 loop each)\n",
      "398 ms ± 0 ns per loop (mean ± std. dev. of 1 run, 1 loop each)\n",
      "774 ms ± 0 ns per loop (mean ± std. dev. of 1 run, 1 loop each)\n",
      "1.49 s ± 0 ns per loop (mean ± std. dev. of 1 run, 1 loop each)\n",
      "2.79 s ± 0 ns per loop (mean ± std. dev. of 1 run, 1 loop each)\n"
     ]
    }
   ],
   "source": [
    "times = {}\n",
    "x = 1\n",
    "while x <= 2**8:\n",
    "    FillListWithRandomsIncrement(1000*x)\n",
    "    res = %timeit -r1 -n1 -o InsertSort(tablica)\n",
    "    times[1000*x] = res.best\n",
    "    x *= 2"
   ]
  },
  {
   "cell_type": "code",
   "execution_count": 18,
   "metadata": {},
   "outputs": [
    {
     "data": {
      "image/png": "[encoded data removed]",
      "text/plain": [
       "<Figure size 432x288 with 1 Axes>"
      ]
     },
     "metadata": {
      "needs_background": "light"
     },
     "output_type": "display_data"
    }
   ],
   "source": [
    "plt.plot(times.keys(), times.values())\n",
    "plt.xlabel('size of list')\n",
    "plt.ylabel('time')\n",
    "plt.show()"
   ]
  },
  {
   "cell_type": "markdown",
   "metadata": {},
   "source": [
    "# Modification of Insert Sort"
   ]
  },
  {
   "cell_type": "markdown",
   "metadata": {},
   "source": [
    "    The time complexity of Insert Sort can be significantly improved if we use binary search method to insert the value into sorted sublist.\n",
    "\n",
    "    So let's define a function for binary searching."
   ]
  },
  {
   "cell_type": "code",
   "execution_count": 20,
   "metadata": {},
   "outputs": [],
   "source": [
    "def bin_search(tab, value, start, end):\n",
    "    if end - start <= 1:\n",
    "        if value < tab[start]:\n",
    "            return start\n",
    "        else:\n",
    "            return start + 1\n",
    "         \n",
    "    else:\n",
    "        idx = (end + start) // 2\n",
    "        \n",
    "        if value < tab[idx]:\n",
    "            return bin_search(tab, value, start, idx)\n",
    "        elif value > tab[idx]:\n",
    "            return bin_search(tab, value, idx, end)\n",
    "        else:\n",
    "            return idx   "
   ]
  },
  {
   "cell_type": "code",
   "execution_count": 21,
   "metadata": {},
   "outputs": [
    {
     "data": {
      "text/plain": [
       "[3, 5, 14, 20, 22, 28, 32, 37, 38, 43]"
      ]
     },
     "execution_count": 21,
     "metadata": {},
     "output_type": "execute_result"
    }
   ],
   "source": [
    "FillListWithRandoms(10, Range=50)\n",
    "InsertSort(tablica)\n",
    "tablica"
   ]
  },
  {
   "cell_type": "code",
   "execution_count": 24,
   "metadata": {},
   "outputs": [
    {
     "name": "stdout",
     "output_type": "stream",
     "text": [
      "6\n"
     ]
    }
   ],
   "source": [
    "# Should return the index of tab where the value should be inserted.\n",
    "print(bin_search(tablica, 29, 0, 10))"
   ]
  },
  {
   "cell_type": "markdown",
   "metadata": {},
   "source": [
    "    Now we can modify the InsertSort function with binary search."
   ]
  },
  {
   "cell_type": "code",
   "execution_count": 45,
   "metadata": {},
   "outputs": [],
   "source": [
    "def InsertSortMod(tab):\n",
    "    for i in range(1, len(tab)):\n",
    "        value = tab[i]\n",
    "        idx = bin_search(tab[:i], value, 0, i)\n",
    "        tab = tab[:idx] + [value] + tab[idx:i] + tab[i+1:]\n",
    "    return tab"
   ]
  },
  {
   "cell_type": "code",
   "execution_count": 50,
   "metadata": {},
   "outputs": [
    {
     "name": "stdout",
     "output_type": "stream",
     "text": [
      "[6, 46, 10, 39, 25, 28, 38, 29, 45, 10]\n"
     ]
    },
    {
     "data": {
      "text/plain": [
       "[6, 10, 10, 25, 28, 29, 38, 39, 45, 46]"
      ]
     },
     "execution_count": 50,
     "metadata": {},
     "output_type": "execute_result"
    }
   ],
   "source": [
    "FillListWithRandoms(10, Range=50)\n",
    "print(tablica)\n",
    "InsertSortMod(tablica)"
   ]
  },
  {
   "cell_type": "markdown",
   "metadata": {},
   "source": [
    "    Finally, we can check how much is modified InsertSort faster than usual."
   ]
  },
  {
   "cell_type": "code",
   "execution_count": 49,
   "metadata": {},
   "outputs": [
    {
     "name": "stdout",
     "output_type": "stream",
     "text": [
      "35.1 ms ± 0 ns per loop (mean ± std. dev. of 1 run, 1 loop each)\n",
      "76.4 ms ± 0 ns per loop (mean ± std. dev. of 1 run, 1 loop each)\n",
      "306 ms ± 0 ns per loop (mean ± std. dev. of 1 run, 1 loop each)\n",
      "1.27 s ± 0 ns per loop (mean ± std. dev. of 1 run, 1 loop each)\n"
     ]
    }
   ],
   "source": [
    "times = {}\n",
    "x = 1\n",
    "while x <= 2**3:\n",
    "    FillListWithRandoms(1000*x)\n",
    "    res = %timeit -r1 -n1 -o InsertSortMod(tablica)\n",
    "    times[1000*x] = res.best\n",
    "    x *= 2"
   ]
  },
  {
   "cell_type": "code",
   "execution_count": 52,
   "metadata": {},
   "outputs": [
    {
     "data": {
      "image/png": "[encoded data removed]",
      "text/plain": [
       "<Figure size 432x288 with 1 Axes>"
      ]
     },
     "metadata": {
      "needs_background": "light"
     },
     "output_type": "display_data"
    }
   ],
   "source": [
    "plt.plot(times.keys(), times.values())\n",
    "plt.xlabel('size of list')\n",
    "plt.ylabel('time')\n",
    "plt.show()"
   ]
  },
  {
   "cell_type": "markdown",
   "metadata": {},
   "source": [
    "    The list of 2^4*1000 elements was sorted 10x faster.\n",
    "    Time complexity of modified InsertSort is (n*log(n)), because the index goes through the list with n time and search the place to insert the element with log(n) time."
   ]
  },
  {
   "cell_type": "code",
   "execution_count": 55,
   "metadata": {},
   "outputs": [
    {
     "name": "stdout",
     "output_type": "stream",
     "text": [
      "25.1 ms ± 0 ns per loop (mean ± std. dev. of 1 run, 1 loop each)\n",
      "82.5 ms ± 0 ns per loop (mean ± std. dev. of 1 run, 1 loop each)\n",
      "276 ms ± 0 ns per loop (mean ± std. dev. of 1 run, 1 loop each)\n",
      "1.24 s ± 0 ns per loop (mean ± std. dev. of 1 run, 1 loop each)\n",
      "5.42 s ± 0 ns per loop (mean ± std. dev. of 1 run, 1 loop each)\n",
      "23.4 s ± 0 ns per loop (mean ± std. dev. of 1 run, 1 loop each)\n"
     ]
    }
   ],
   "source": [
    "times = {}\n",
    "x = 1\n",
    "while x <= 2**5:\n",
    "    FillListWithRandomsIncrement(1000*x)\n",
    "    res = %timeit -r1 -n1 -o InsertSortMod(tablica)\n",
    "    times[1000*x] = res.best\n",
    "    x *= 2"
   ]
  },
  {
   "cell_type": "code",
   "execution_count": 56,
   "metadata": {},
   "outputs": [
    {
     "data": {
      "image/png": "[encoded data removed]",
      "text/plain": [
       "<Figure size 432x288 with 1 Axes>"
      ]
     },
     "metadata": {
      "needs_background": "light"
     },
     "output_type": "display_data"
    }
   ],
   "source": [
    "plt.plot(times.keys(), times.values())\n",
    "plt.xlabel('size of list')\n",
    "plt.ylabel('time')\n",
    "plt.show()"
   ]
  },
  {
   "cell_type": "markdown",
   "metadata": {},
   "source": [
    "    However, modified InsertSort deals much worse with almost sorted list!"
   ]
  },
  {
   "cell_type": "markdown",
   "metadata": {},
   "source": [
    "# Conclusion"
   ]
  },
  {
   "cell_type": "markdown",
   "metadata": {},
   "source": [
    "    From all sorting algorithms, which was described above, the faster one for normal list is InsertSort with binary search. However, for almost sorted list it is better to choose InsertSort with two loops."
   ]
  },
  {
   "cell_type": "code",
   "execution_count": null,
   "metadata": {},
   "outputs": [],
   "source": []
  }
 ],
 "metadata": {
  "kernelspec": {
   "display_name": "Python 3",
   "language": "python",
   "name": "python3"
  },
  "language_info": {
   "codemirror_mode": {
    "name": "ipython",
    "version": 3
   },
   "file_extension": ".py",
   "mimetype": "text/x-python",
   "name": "python",
   "nbconvert_exporter": "python",
   "pygments_lexer": "ipython3",
   "version": "3.8.5"
  }
 },
 "nbformat": 4,
 "nbformat_minor": 4
}
